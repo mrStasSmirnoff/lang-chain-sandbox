{
 "cells": [
  {
   "attachments": {},
   "cell_type": "markdown",
   "metadata": {},
   "source": [
    "This notebook is heavily inspired by [link](https://www.youtube.com/watch?v=fCh7PKR5WqU&ab_channel=Rabbitmetrics)\n",
    "\n",
    "Link to the data: https://cseweb.ucsd.edu/~jmcauley/datasets/amazon_v2/\n",
    "\n",
    "The idea is the following: Lets assume that I am launching a new product, from marketing perspective one of the best strategies could be:\n",
    "- find the similar products on amazon\n",
    "- filter review and pick the ones with 4+ stars\n",
    "- use the wording that people used in those reviews to describe your own product\n",
    "\n",
    "In this way I using the words and tonality of those review in order to speak with customers in their own language"
   ]
  },
  {
   "cell_type": "code",
   "execution_count": null,
   "metadata": {},
   "outputs": [],
   "source": [
    "import os\n",
    "import json\n",
    "import gzip\n",
    "import pandas as pd\n",
    "import seaborn as sns"
   ]
  },
  {
   "cell_type": "code",
   "execution_count": null,
   "metadata": {},
   "outputs": [],
   "source": [
    "from dotenv import load_dotenv, find_dotenv\n",
    "load_dotenv(find_dotenv())"
   ]
  },
  {
   "cell_type": "code",
   "execution_count": null,
   "metadata": {},
   "outputs": [],
   "source": [
    "# Extract data from files\n",
    "data = []\n",
    "with gzip.open('./data/AMAZON_FASHION.json.gz') as f:\n",
    "    for l in f:\n",
    "        data.append(json.loads(l.strip()))\n",
    "        \n",
    "metadata = []\n",
    "with gzip.open('./data/meta_AMAZON_FASHION.json.gz') as f:\n",
    "    for l in f:\n",
    "        metadata.append(json.loads(l.strip()))"
   ]
  },
  {
   "cell_type": "code",
   "execution_count": null,
   "metadata": {},
   "outputs": [],
   "source": [
    "df = pd.DataFrame.from_dict(data)\n",
    "df = df[df['reviewText'].notna()]\n",
    "display(df.head(3))\n",
    "\n",
    "df_meta=pd.DataFrame.from_dict(metadata)\n",
    "display(df_meta.head(3))"
   ]
  },
  {
   "cell_type": "code",
   "execution_count": null,
   "metadata": {},
   "outputs": [],
   "source": [
    "# the longest and the shortest reviewText column strings\n",
    "print(df['reviewText'].str.len().min())\n",
    "print(df['reviewText'].str.len().max())"
   ]
  },
  {
   "cell_type": "code",
   "execution_count": null,
   "metadata": {},
   "outputs": [],
   "source": [
    "# we see that the majority of reviews below 500 symbols, lets truncate the reviews accordingly\n",
    "string_lengths = df['reviewText'].str.len()\n",
    "sns.histplot(string_lengths, kde=False)"
   ]
  },
  {
   "cell_type": "code",
   "execution_count": null,
   "metadata": {},
   "outputs": [],
   "source": [
    "max_review_len = 500\n",
    "\n",
    "def truncate_review(text):\n",
    "    return text[:max_review_len]\n",
    "\n",
    "df['truncated_reviews'] = df.apply(lambda row: truncate_review(row['reviewText']), axis=1)\n",
    "sns.histplot(df['truncated_reviews'].str.len())"
   ]
  },
  {
   "cell_type": "code",
   "execution_count": null,
   "metadata": {},
   "outputs": [],
   "source": [
    "df.groupby('asin').count().sort_values('overall')"
   ]
  },
  {
   "cell_type": "code",
   "execution_count": null,
   "metadata": {},
   "outputs": [],
   "source": [
    "# Work on only a slice of the dataframe\n",
    "df = df.loc[df['asin'] == 'B000KPIHQ4'].copy()\n",
    "print(df.shape)\n",
    "display(df.head(3))"
   ]
  },
  {
   "cell_type": "code",
   "execution_count": null,
   "metadata": {},
   "outputs": [],
   "source": [
    "vec_texts = df['truncated_reviews'].tolist()\n",
    "print(vec_texts[0])\n",
    "metadata = [dict(rating=i) for i in df['overall'].tolist()]\n",
    "print(metadata[0])"
   ]
  },
  {
   "cell_type": "code",
   "execution_count": null,
   "metadata": {},
   "outputs": [],
   "source": [
    "import pinecone\n",
    "from langchain.vectorstores import Pinecone\n",
    "\n",
    "pinecone.init(\n",
    "    api_key=os.getenv('PINECONE_API_KEY'),\n",
    "    environment=os.getenv('PINECONE_ENV')\n",
    ")"
   ]
  },
  {
   "cell_type": "code",
   "execution_count": null,
   "metadata": {},
   "outputs": [],
   "source": [
    "# create the Pinecone index\n",
    "emb_length = 768\n",
    "\n",
    "pinecone.create_index(name='zapier', \n",
    "                      metric='euclidean', \n",
    "                      dimension=emb_length)\n",
    "index = pinecone.Index('zapier')"
   ]
  },
  {
   "cell_type": "code",
   "execution_count": null,
   "metadata": {},
   "outputs": [],
   "source": [
    "from langchain.embeddings import OpenAIEmbeddings\n",
    "from langchain.embeddings import HuggingFaceEmbeddings\n",
    "\n",
    "open_ai_emb = OpenAIEmbeddings(model_name=\"ada\")\n",
    "hugg_face_emb = HuggingFaceEmbeddings()"
   ]
  },
  {
   "cell_type": "code",
   "execution_count": null,
   "metadata": {},
   "outputs": [],
   "source": [
    "# add review embeddings with metadata\n",
    "vec_store = Pinecone.from_texts(vec_texts, hugg_face_emb, index_name='zapier', metadatas=metadata)"
   ]
  },
  {
   "cell_type": "code",
   "execution_count": null,
   "metadata": {},
   "outputs": [],
   "source": [
    "query = \"The Powerstep Pinnacle Shoe Insoles are fantastic\"\n",
    "reviews = vec_store.similarity_search(query=query,\n",
    "                                     k=100,\n",
    "                                     filter={\"rating\": 5.0}\n",
    ")"
   ]
  },
  {
   "cell_type": "code",
   "execution_count": null,
   "metadata": {},
   "outputs": [],
   "source": [
    "from langchain.prompts import PromptTemplate\n",
    "from langchain.chat_models import ChatOpenAI\n",
    "from langchain.chains.summarize import load_summarize_chain\n",
    "\n",
    "llm = ChatOpenAI(model_name=\"gpt-3.5-turbo\", temperature=0.2)"
   ]
  },
  {
   "cell_type": "code",
   "execution_count": null,
   "metadata": {},
   "outputs": [],
   "source": [
    "promt_template = \"\"\"\n",
    "Write a summary of the reviews:\n",
    "\n",
    "{text}\n",
    "\n",
    "The summary should be about ten lines long and tailored to Millenials\n",
    "\"\"\"\n",
    "PROMT = PromptTemplate(template=promt_template,\n",
    "                       input_variables=[\"text\"])\n",
    "# summarizing chain\n",
    "chain = load_summarize_chain(llm, chain_type=\"stuff\", prompt=PROMT)\n",
    "summary = chain.run(reviews)"
   ]
  },
  {
   "cell_type": "code",
   "execution_count": null,
   "metadata": {},
   "outputs": [],
   "source": [
    "print(summary)"
   ]
  },
  {
   "cell_type": "code",
   "execution_count": null,
   "metadata": {},
   "outputs": [],
   "source": [
    "## FACEBOOK ADD\n",
    "promt_template_fb = \"\"\"\n",
    "Write the copy for a facebook ad based on the reviews:\n",
    "\n",
    "{text}\n",
    "\n",
    "As far as text goes, you can have up to 40 characters in your headline, \n",
    "125 characters in your primary text, and 30 characters in your description\n",
    "It should be tailored to GenZ\n",
    "\"\"\"\n",
    "PROMT = PromptTemplate(template=promt_template_fb,\n",
    "                       input_variables=[\"text\"])\n",
    "# summarizing chain\n",
    "chain = load_summarize_chain(llm, chain_type=\"stuff\", prompt=PROMT)\n",
    "fb_ad = chain.run(reviews)\n"
   ]
  },
  {
   "cell_type": "code",
   "execution_count": null,
   "metadata": {},
   "outputs": [],
   "source": [
    "fb_ad"
   ]
  },
  {
   "cell_type": "code",
   "execution_count": null,
   "metadata": {},
   "outputs": [],
   "source": [
    "# load tools needed for connecting LangChain and Zapier\n",
    "\n",
    "from langchain.agents.agent_toolkits import ZapierToolkit\n",
    "from langchain.utilities.zapier import ZapierNLAWrapper\n",
    "from langchain.agents import initialize_agent\n",
    "\n",
    "## SETTING UP ZAPIER & MAILGUN ACCOUNTS IS QUITE A HUSTLE, BUT THE IDEA OF TAILORED EMAILS IS RATHER CLEAR BY NOW\n",
    "## FRO MORE INFO: https://github.com/rabbitmetrics/voice-of-customer/blob/main/notebooks/voice-of-customer.ipynb\n",
    "\n",
    "#zapier = ZapierNLAWrapper()\n",
    "#toolkit = ZapierToolkit.from_zapier_nla_wrapper(zapier)"
   ]
  },
  {
   "cell_type": "code",
   "execution_count": null,
   "metadata": {},
   "outputs": [],
   "source": [
    "index_name = \"zapier\"\n",
    "pinecone.delete_index(index_name)"
   ]
  }
 ],
 "metadata": {
  "kernelspec": {
   "display_name": "langchain-sandbox",
   "language": "python",
   "name": "python3"
  },
  "language_info": {
   "codemirror_mode": {
    "name": "ipython",
    "version": 3
   },
   "file_extension": ".py",
   "mimetype": "text/x-python",
   "name": "python",
   "nbconvert_exporter": "python",
   "pygments_lexer": "ipython3",
   "version": "3.11.3"
  },
  "orig_nbformat": 4
 },
 "nbformat": 4,
 "nbformat_minor": 2
}
